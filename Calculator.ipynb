{
 "cells": [
  {
   "cell_type": "code",
   "execution_count": null,
   "metadata": {},
   "outputs": [],
   "source": [
    "# num = int(input(':>'))\n",
    "# num2 = int(input(':>'))\n",
    "# print(num)\n",
    "# print(num2)\n"
   ]
  },
  {
   "cell_type": "code",
   "execution_count": null,
   "metadata": {},
   "outputs": [],
   "source": [
    "\n",
    "#print(1,2,3,4, sep='*', end='')#Перопределение ключевых  параметров\n",
    "#sep - key ключ \n",
    "# ='*' - val параметр \n",
    "print(1,2,3,4)"
   ]
  },
  {
   "cell_type": "code",
   "execution_count": 3,
   "metadata": {},
   "outputs": [
    {
     "name": "stdout",
     "output_type": "stream",
     "text": [
      "sum 77.0\n",
      "Subtraction [səbˈtrakSH(ə)n] -9.0\n",
      "Multiplication [məltəpləˈkāSH(ə)n] 1462.0\n",
      "Division [dəˈviZHən] [dɪˈvɪʒən] 0.7906976744186046\n"
     ]
    }
   ],
   "source": [
    "num = float(input('num'))\n",
    "num2 = float(input('num'))\n",
    "\n",
    "print('sum', num + num2) # \n",
    "print('Subtraction [səbˈtrakSH(ə)n]' , num - num2)\n",
    "print('Multiplication [məltəpləˈkāSH(ə)n]', num * num2)\n",
    "print('Division [dəˈviZHən] [dɪˈvɪʒən]', num / num2)\n"
   ]
  },
  {
   "cell_type": "code",
   "execution_count": 1,
   "metadata": {},
   "outputs": [],
   "source": [
    "while True: # До : загаловок, а после инструкция \n",
    "    num = float(input('num1'))\n",
    "    operator = input('operator')\n",
    "    num2 = float(input('num2'))\n",
    "\n",
    "    if operator == '+':\n",
    "        print('sum', num + num2) # \n",
    "        \n",
    "    elif operator == '-': \n",
    "        print('Subtraction [səbˈtrakSH(ə)n]' , num - num2)\n",
    "    elif operator == '*': \n",
    "        print('Multiplication [məltəpləˈkāSH(ə)n]', num * num2)\n",
    "    elif operator == '/': \n",
    "        print('Division [dəˈviZHən] [dɪˈvɪʒən]', num / num2)\n"
   ]
  },
  {
   "cell_type": "code",
   "execution_count": 1,
   "metadata": {},
   "outputs": [
    {
     "name": "stdout",
     "output_type": "stream",
     "text": [
      "Subtraction [səbˈtrakSH(ə)n] 1.0\n",
      "Subtraction [səbˈtrakSH(ə)n] 0.0\n",
      "sum 55.0\n",
      "Multiplication [məltəpləˈkāSH(ə)n] 736.0\n"
     ]
    }
   ],
   "source": [
    "def canculator(num, num2, operator):\n",
    "    if operator == '+':\n",
    "        print('sum', num + num2) # \n",
    "    elif operator == '-': \n",
    "        print('Subtraction [səbˈtrakSH(ə)n]' , num - num2)\n",
    "    elif operator == '*': \n",
    "        print('Multiplication [məltəpləˈkāSH(ə)n]', num * num2)\n",
    "    elif operator == '/': \n",
    "        print('Division [dəˈviZHən] [dɪˈvɪʒən]', num / num2)\n",
    "\n",
    "\n",
    "\n",
    "    \n",
    "while True: # До : загаловок, а после инструкция \n",
    "\n",
    "    num = float(input('num1'))\n",
    "    operator = input('operator')\n",
    "    num2 = float(input('num2'))\n",
    "    canculator(num, num2, operator)\n",
    "\n",
    "   "
   ]
  }
 ],
 "metadata": {
  "kernelspec": {
   "display_name": "base",
   "language": "python",
   "name": "python3"
  },
  "language_info": {
   "codemirror_mode": {
    "name": "ipython",
    "version": 3
   },
   "file_extension": ".py",
   "mimetype": "text/x-python",
   "name": "python",
   "nbconvert_exporter": "python",
   "pygments_lexer": "ipython3",
   "version": "3.10.9"
  },
  "orig_nbformat": 4
 },
 "nbformat": 4,
 "nbformat_minor": 2
}
